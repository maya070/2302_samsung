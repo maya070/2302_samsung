{
 "cells": [
  {
   "cell_type": "markdown",
   "metadata": {},
   "source": [
    "<h1> And operation "
   ]
  },
  {
   "cell_type": "code",
   "execution_count": 2,
   "metadata": {},
   "outputs": [],
   "source": [
    "import torch \n",
    "import numpy as np\n",
    "import torch.nn as nn\n",
    "import torch.nn.functional as F \n",
    "import torch.optim as optim\n",
    "\n",
    "x_train = torch.FloatTensor([[0,0], [0,1], [1,0], [1,1]])\n",
    "y_train = torch.FloatTensor([[0], [0], [0], [1]])\n",
    " \n",
    " "
   ]
  },
  {
   "cell_type": "markdown",
   "metadata": {},
   "source": [
    "<h1> linear model "
   ]
  },
  {
   "cell_type": "code",
   "execution_count": 44,
   "metadata": {},
   "outputs": [],
   "source": [
    "class MRModel(nn.Module):\n",
    "    def __init__(self):\n",
    "        super().__init__()\n",
    "        self.linear = nn.Linear( 2,1 , bias=True )   #-> 맞는 숫자 채우기 \\\n",
    "        self.sigmoid = nn.Sigmoid() \n",
    "        \n",
    "    def forward(self, x):\n",
    "        x = self.sigmoid(self.linear(x))\n",
    "        return x "
   ]
  },
  {
   "cell_type": "code",
   "execution_count": 45,
   "metadata": {
    "scrolled": true
   },
   "outputs": [
    {
     "name": "stdout",
     "output_type": "stream",
     "text": [
      "Epoch    0/50000 Cost: 0.261558\n",
      "Epoch 1000/50000 Cost: 0.250002\n",
      "Epoch 2000/50000 Cost: 0.250000\n",
      "Epoch 3000/50000 Cost: 0.250000\n",
      "Epoch 4000/50000 Cost: 0.250000\n",
      "Epoch 5000/50000 Cost: 0.250000\n",
      "Epoch 6000/50000 Cost: 0.250000\n",
      "Epoch 7000/50000 Cost: 0.250000\n",
      "Epoch 8000/50000 Cost: 0.250000\n",
      "Epoch 9000/50000 Cost: 0.250000\n",
      "Epoch 10000/50000 Cost: 0.250000\n",
      "Epoch 11000/50000 Cost: 0.250000\n",
      "Epoch 12000/50000 Cost: 0.250000\n",
      "Epoch 13000/50000 Cost: 0.250000\n",
      "Epoch 14000/50000 Cost: 0.250000\n",
      "Epoch 15000/50000 Cost: 0.250000\n",
      "Epoch 16000/50000 Cost: 0.250000\n",
      "Epoch 17000/50000 Cost: 0.250000\n",
      "Epoch 18000/50000 Cost: 0.250000\n",
      "Epoch 19000/50000 Cost: 0.250000\n",
      "Epoch 20000/50000 Cost: 0.250000\n",
      "Epoch 21000/50000 Cost: 0.250000\n",
      "Epoch 22000/50000 Cost: 0.250000\n",
      "Epoch 23000/50000 Cost: 0.250000\n",
      "Epoch 24000/50000 Cost: 0.250000\n",
      "Epoch 25000/50000 Cost: 0.250000\n",
      "Epoch 26000/50000 Cost: 0.250000\n",
      "Epoch 27000/50000 Cost: 0.250000\n",
      "Epoch 28000/50000 Cost: 0.250000\n",
      "Epoch 29000/50000 Cost: 0.250000\n",
      "Epoch 30000/50000 Cost: 0.250000\n",
      "Epoch 31000/50000 Cost: 0.250000\n",
      "Epoch 32000/50000 Cost: 0.250000\n",
      "Epoch 33000/50000 Cost: 0.250000\n",
      "Epoch 34000/50000 Cost: 0.250000\n",
      "Epoch 35000/50000 Cost: 0.250000\n",
      "Epoch 36000/50000 Cost: 0.250000\n",
      "Epoch 37000/50000 Cost: 0.250000\n",
      "Epoch 38000/50000 Cost: 0.250000\n",
      "Epoch 39000/50000 Cost: 0.250000\n",
      "Epoch 40000/50000 Cost: 0.250000\n",
      "Epoch 41000/50000 Cost: 0.250000\n",
      "Epoch 42000/50000 Cost: 0.250000\n",
      "Epoch 43000/50000 Cost: 0.250000\n",
      "Epoch 44000/50000 Cost: 0.250000\n",
      "Epoch 45000/50000 Cost: 0.250000\n",
      "Epoch 46000/50000 Cost: 0.250000\n",
      "Epoch 47000/50000 Cost: 0.250000\n",
      "Epoch 48000/50000 Cost: 0.250000\n",
      "Epoch 49000/50000 Cost: 0.250000\n",
      "Epoch 50000/50000 Cost: 0.250000\n"
     ]
    }
   ],
   "source": [
    "model = MRModel()\n",
    "optimizer = optim.SGD(model.parameters(), lr=0.1)\n",
    "\n",
    "nb_epochs = 50000\n",
    "\n",
    "for epoch in range(nb_epochs + 1):\n",
    "    # H(x) 계산\n",
    "    prediction = model(x_train)\n",
    "    # cost 계산\n",
    "    \n",
    "    cost = F.mse_loss(prediction, y_train)\n",
    "    \n",
    "    # cost로 H(x) 개선\n",
    "    \n",
    "    optimizer.zero_grad()\n",
    "    cost.backward()\n",
    "    optimizer.step()\n",
    "    \n",
    "    if epoch % 1000 == 0 :  \n",
    "        print('Epoch {:4d}/{} Cost: {:.6f}'.format( epoch, nb_epochs, cost.item() ))\n",
    "        #print(model.state_dict() )\n",
    "  "
   ]
  },
  {
   "cell_type": "code",
   "execution_count": 46,
   "metadata": {
    "scrolled": false
   },
   "outputs": [
    {
     "name": "stdout",
     "output_type": "stream",
     "text": [
      "모델의 출력값(Hypothesis):  [[0.5]\n",
      " [0.5]\n",
      " [0.5]\n",
      " [0.5]]\n",
      "모델의 예측값(Predicted):  [[0.]\n",
      " [0.]\n",
      " [0.]\n",
      " [0.]]\n",
      "실제값(Y):  tensor([[0.],\n",
      "        [1.],\n",
      "        [1.],\n",
      "        [0.]])\n",
      "정확도(Accuracy):  0.5\n"
     ]
    }
   ],
   "source": [
    "with torch.no_grad():\n",
    "    hypothesis = model(x_train)\n",
    "    predicted = (hypothesis > 0.5).float()\n",
    "    accuracy = (predicted == y_train).float().mean()\n",
    "    print('모델의 출력값(Hypothesis): ', hypothesis.detach().cpu().numpy())\n",
    "    print('모델의 예측값(Predicted): ', predicted.detach().cpu().numpy())\n",
    "    print('실제값(Y): ', y_train)\n",
    "    print('정확도(Accuracy): ', accuracy.item())"
   ]
  },
  {
   "cell_type": "code",
   "execution_count": 3,
   "metadata": {},
   "outputs": [],
   "source": [
    " "
   ]
  },
  {
   "cell_type": "code",
   "execution_count": null,
   "metadata": {},
   "outputs": [],
   "source": []
  },
  {
   "cell_type": "code",
   "execution_count": null,
   "metadata": {},
   "outputs": [],
   "source": []
  },
  {
   "cell_type": "code",
   "execution_count": null,
   "metadata": {},
   "outputs": [],
   "source": []
  },
  {
   "cell_type": "code",
   "execution_count": null,
   "metadata": {},
   "outputs": [],
   "source": []
  }
 ],
 "metadata": {
  "kernelspec": {
   "display_name": "Python 3",
   "language": "python",
   "name": "python3"
  },
  "language_info": {
   "codemirror_mode": {
    "name": "ipython",
    "version": 3
   },
   "file_extension": ".py",
   "mimetype": "text/x-python",
   "name": "python",
   "nbconvert_exporter": "python",
   "pygments_lexer": "ipython3",
   "version": "3.8.3"
  }
 },
 "nbformat": 4,
 "nbformat_minor": 4
}
