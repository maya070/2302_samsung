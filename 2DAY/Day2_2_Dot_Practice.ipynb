{
 "cells": [
  {
   "cell_type": "code",
   "execution_count": 1,
   "metadata": {
    "executionInfo": {
     "elapsed": 421,
     "status": "ok",
     "timestamp": 1627372281946,
     "user": {
      "displayName": "IDLY",
      "photoUrl": "https://lh3.googleusercontent.com/a-/AOh14Gi_uASS8xEhdc3V54PmrlTtzc2dMylBAtC2MBQk0w=s64",
      "userId": "01051119595489469234"
     },
     "user_tz": -540
    },
    "id": "d7U3b8FffmfV"
   },
   "outputs": [],
   "source": [
    "import torch\n",
    "import numpy\n",
    "from sklearn.datasets import make_blobs\n",
    "import matplotlib.pyplot as plt"
   ]
  },
  {
   "cell_type": "markdown",
   "metadata": {},
   "source": [
    "numpy는 유명한 수치해석용 라이브러리.\n",
    "\n",
    "sklearn은 파이썬의 대표적인 머신러닝 라이브러리로 사실 딥러닝을 제외한 머신러닝은 대부분 sklearn을 이용합니다. \n",
    "\n",
    "matplotlib은 시각화를 위해 가져옵니다."
   ]
  },
  {
   "cell_type": "code",
   "execution_count": 2,
   "metadata": {
    "executionInfo": {
     "elapsed": 5,
     "status": "ok",
     "timestamp": 1627372281947,
     "user": {
      "displayName": "IDLY",
      "photoUrl": "https://lh3.googleusercontent.com/a-/AOh14Gi_uASS8xEhdc3V54PmrlTtzc2dMylBAtC2MBQk0w=s64",
      "userId": "01051119595489469234"
     },
     "user_tz": -540
    },
    "id": "AcogT3YVfmfb"
   },
   "outputs": [],
   "source": [
    "n_dim = 2\n",
    "x_train, y_train = make_blobs(n_samples=80, n_features=n_dim,\n",
    "                              centers=[[0,0],[1,1],[1,0],[0,1]],\n",
    "                              shuffle=True, cluster_std=0.15)\n",
    "x_test, y_test = make_blobs(n_samples=20, n_features=n_dim,\n",
    "                            centers=[[0,0],[1,1],[1,0],[0,1]],\n",
    "                            shuffle=True, cluster_std=0.15)"
   ]
  },
  {
   "cell_type": "markdown",
   "metadata": {},
   "source": [
    "make_blobs()를 이용해서 데이터를 2차원 벡터로 만들었습니다. \n",
    "\n",
    "80대 20으로만들었습니다. \n",
    "\n",
    "make_blobs()함수가 만들어내는 레이블 데이터는 각 데이터 한점 한점이 몇번째 클러스터에 속해있는지 알려주는 인덱스입니다. \n",
    "\n",
    "본 예제에서는 4개의 클러스터를 생성하였으므로 이미 0, 1, 2, 3으로 파싱되어 있습니다."
   ]
  },
  {
   "cell_type": "code",
   "execution_count": 3,
   "metadata": {
    "colab": {
     "base_uri": "https://localhost:8080/"
    },
    "executionInfo": {
     "elapsed": 4,
     "status": "ok",
     "timestamp": 1627372281947,
     "user": {
      "displayName": "IDLY",
      "photoUrl": "https://lh3.googleusercontent.com/a-/AOh14Gi_uASS8xEhdc3V54PmrlTtzc2dMylBAtC2MBQk0w=s64",
      "userId": "01051119595489469234"
     },
     "user_tz": -540
    },
    "id": "dDBxQXrAip0_",
    "outputId": "df502abd-8829-4a7e-c40d-74260e60bf48"
   },
   "outputs": [
    {
     "name": "stdout",
     "output_type": "stream",
     "text": [
      "[0.76963342 0.04336016] 2\n",
      "[1.0568018  1.11905071] 1\n",
      "[ 0.75487898 -0.00701441] 2\n",
      "[1.04896476 1.08085528] 1\n",
      "[0.11414816 0.90651401] 3\n",
      "[ 0.79700531 -0.17857101] 2\n",
      "[1.16508174 1.06614625] 1\n",
      "[1.09883896 0.21134147] 2\n",
      "[ 0.97978926 -0.11469192] 2\n",
      "[ 0.42821888 -0.08159947] 0\n",
      "[0.02833379 0.18538   ] 0\n",
      "[ 0.94595967 -0.04697924] 2\n",
      "[0.95694561 0.89472249] 1\n",
      "[-0.06806462  0.0769948 ] 0\n",
      "[0.23360395 1.10975201] 3\n",
      "[-0.13869731  0.17385993] 0\n"
     ]
    }
   ],
   "source": [
    "for i, x in enumerate(x_train):\n",
    "    print(x, y_train[i])\n",
    "    if i == 15 : break"
   ]
  },
  {
   "cell_type": "markdown",
   "metadata": {
    "id": "3FWj2L_Nr2-1"
   },
   "source": [
    "label을 재설정해주겠습니다. 저희는 Binary Classify를 하기위한 NN을 만들려고 하거든요"
   ]
  },
  {
   "cell_type": "code",
   "execution_count": 4,
   "metadata": {
    "executionInfo": {
     "elapsed": 2,
     "status": "ok",
     "timestamp": 1627372282313,
     "user": {
      "displayName": "IDLY",
      "photoUrl": "https://lh3.googleusercontent.com/a-/AOh14Gi_uASS8xEhdc3V54PmrlTtzc2dMylBAtC2MBQk0w=s64",
      "userId": "01051119595489469234"
     },
     "user_tz": -540
    },
    "id": "6MzHbm-Hfmfc"
   },
   "outputs": [],
   "source": [
    "def label_map(y_, from_, to_):\n",
    "    y = numpy.copy(y_)\n",
    "    for f in from_:\n",
    "        y[y_ == f] = to_\n",
    "    return y\n",
    "\n",
    "y_train = label_map(y_train, [0, 1], 0)\n",
    "y_train = label_map(y_train, [2, 3], 1)\n",
    "y_test = label_map(y_test, [0, 1], 0)\n",
    "y_test = label_map(y_test, [2, 3], 1)"
   ]
  },
  {
   "cell_type": "markdown",
   "metadata": {},
   "source": [
    "따라서 label_map이라는 함수를 하나 구현해서 0번이나 1번을 레이블로 가진 데이터는 전부 0번 레이블을 갖도록 바꿔줍니다. \n",
    "\n",
    "그리고 2번이나 3번을 레이블로 가진 데이터는 전부 1번 레이블을 갖도록 바꿔줍니다. \n",
    "\n",
    "데이터가 제대로 만들어지고 레이블링 되어있는지 확인하기 위해 시각화를 진행합니다. 0인 데이터는 o, 1인데이터는 +로 표기했습니다."
   ]
  },
  {
   "cell_type": "code",
   "execution_count": 5,
   "metadata": {
    "colab": {
     "base_uri": "https://localhost:8080/",
     "height": 269
    },
    "executionInfo": {
     "elapsed": 445,
     "status": "ok",
     "timestamp": 1627372282756,
     "user": {
      "displayName": "IDLY",
      "photoUrl": "https://lh3.googleusercontent.com/a-/AOh14Gi_uASS8xEhdc3V54PmrlTtzc2dMylBAtC2MBQk0w=s64",
      "userId": "01051119595489469234"
     },
     "user_tz": -540
    },
    "id": "mP8zxnsbfmfc",
    "outputId": "2ffec0b9-4423-4deb-f67a-97ed234100bf"
   },
   "outputs": [
    {
     "data": {
      "image/png": "[encoded data removed]",
      "text/plain": [
       "<Figure size 432x288 with 1 Axes>"
      ]
     },
     "metadata": {
      "needs_background": "light"
     },
     "output_type": "display_data"
    }
   ],
   "source": [
    "def vis_data(x,y = None, c = 'r'):\n",
    "    if y is None:\n",
    "        y = [None] * len(x)\n",
    "    for x_, y_ in zip(x,y):\n",
    "        if y_ is None:\n",
    "            plt.plot(x_[0], x_[1], '*',markerfacecolor='none', markeredgecolor=c)\n",
    "        else:\n",
    "            plt.plot(x_[0], x_[1], c+'o' if y_ == 0 else c+'+')\n",
    "\n",
    "plt.figure()\n",
    "vis_data(x_train, y_train, c='r')\n",
    "plt.plot([-1, 2], [0,0], linestyle = \":\", color = 'k')\n",
    "plt.plot([-1, 2], [1,1], linestyle = \":\", color = 'k')\n",
    "plt.plot([0, 0], [-1, 2], linestyle = \":\", color = 'k')\n",
    "plt.plot([1, 1], [-1,2], linestyle = \":\", color = 'k')\n",
    "#vis_data(x_test, y_test, c='b')\n",
    "plt.xlim([-0.5, 1.5])\n",
    "plt.ylim([-0.5, 1.5])\n",
    "plt.show()"
   ]
  },
  {
   "cell_type": "code",
   "execution_count": 6,
   "metadata": {
    "colab": {
     "base_uri": "https://localhost:8080/"
    },
    "executionInfo": {
     "elapsed": 4,
     "status": "ok",
     "timestamp": 1627372282756,
     "user": {
      "displayName": "IDLY",
      "photoUrl": "https://lh3.googleusercontent.com/a-/AOh14Gi_uASS8xEhdc3V54PmrlTtzc2dMylBAtC2MBQk0w=s64",
      "userId": "01051119595489469234"
     },
     "user_tz": -540
    },
    "id": "YYtvQfymfmfe",
    "outputId": "5bd540d3-ad41-423f-fe78-19f41393a0b4"
   },
   "outputs": [
    {
     "name": "stdout",
     "output_type": "stream",
     "text": [
      "torch.Size([80, 2])\n"
     ]
    }
   ],
   "source": [
    "x_train = torch.FloatTensor(x_train)\n",
    "print(x_train.shape)\n",
    "x_test = torch.FloatTensor(x_test)\n",
    "y_train = torch.FloatTensor(y_train)\n",
    "y_test = torch.FloatTensor(y_test)"
   ]
  },
  {
   "cell_type": "markdown",
   "metadata": {
    "id": "31FZ_wESip1I"
   },
   "source": [
    "## 벡터 [0, 1]의 레이블은 무엇인지 Ne"
   ]
  }
 ],
 "metadata": {
  "colab": {
   "collapsed_sections": [],
   "name": "[day2_2]Dot_classification[sol].ipynb",
   "provenance": [],
   "toc_visible": true
  },
  "kernelspec": {
   "display_name": "Python 3",
   "language": "python",
   "name": "python3"
  },
  "language_info": {
   "codemirror_mode": {
    "name": "ipython",
    "version": 3
   },
   "file_extension": ".py",
   "mimetype": "text/x-python",
   "name": "python",
   "nbconvert_exporter": "python",
   "pygments_lexer": "ipython3",
   "version": "3.8.5"
  }
 },
 "nbformat": 4,
 "nbformat_minor": 1
}
