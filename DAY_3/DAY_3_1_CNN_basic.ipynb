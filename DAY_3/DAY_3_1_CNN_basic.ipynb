{
  "nbformat": 4,
  "nbformat_minor": 0,
  "metadata": {
    "colab": {
      "provenance": [],
      "toc_visible": true
    },
    "kernelspec": {
      "name": "python3",
      "display_name": "Python 3"
    },
    "language_info": {
      "name": "python"
    },
    "accelerator": "GPU"
  },
  "cells": [
    {
      "cell_type": "markdown",
      "metadata": {
        "id": "Dubf84a7wThg"
      },
      "source": []
    },
    {
      "cell_type": "markdown",
      "metadata": {
        "id": "ClTdLPkKgvsS"
      },
      "source": [
        "## 1) nn.Conv2d \n",
        " : 2-dim 데이터에 하나의 Convolution layer를 생성\n",
        "##### 필요한 하이퍼파라미터를 설정하면 Convolution layer에 필요한 parameter weight를 자동으로 선언해준다.\n",
        "\n",
        "- [doc] (https://pytorch.org/docs/stable/generated/torch.nn.Conv2d.html)\n",
        "\n",
        "![image.png](http://drive.google.com/uc?id=1YX0AvzjTVFD38dhVZ2-bbv5gLEk9A8K8)\n",
        "![image.png](http://drive.google.com/uc?id=18ZaNZcwh4SOBSa8WmXtGgQM4iDi6q6F5)"
      ]
    },
    {
      "cell_type": "code",
      "metadata": {
        "id": "HdGyn7qivFhs"
      },
      "source": [
        "import torch\n",
        "import torch.nn as nn"
      ],
      "execution_count": null,
      "outputs": []
    },
    {
      "cell_type": "markdown",
      "metadata": {
        "id": "0Z5xHGN9iUKp"
      },
      "source": [
        "### Example 1) kernel_size=3, stride=1, padding=0\n",
        "![image.png](http://drive.google.com/uc?id=1dvnKVDptCOD1VLtiiTztOB2Lp4SAkuOE)"
      ]
    },
    {
      "cell_type": "code",
      "metadata": {
        "id": "M6Z5_4kBvF-m",
        "colab": {
          "base_uri": "https://localhost:8080/"
        },
        "outputId": "3bc606b3-0f3e-4fe7-c600-81cee30dd80d"
      },
      "source": [
        "input = torch.ones(1,1,4,4)\n",
        "conv_layer = nn.Conv2d(in_channels=1, out_channels=1, kernel_size=3, stride=1, padding=0)\n",
        "output = conv_layer(input)\n",
        "print(output.shape)"
      ],
      "execution_count": null,
      "outputs": [
        {
          "output_type": "stream",
          "text": [
            "torch.Size([1, 1, 2, 2])\n"
          ],
          "name": "stdout"
        }
      ]
    },
    {
      "cell_type": "markdown",
      "metadata": {
        "id": "WH69ollWmPTv"
      },
      "source": [
        "### Example 2) kernel_size=3, stride=2, padding=0\n",
        "![image.png](http://drive.google.com/uc?id=1SgTHZ4mGkQgaHmpVNi-IcHqP1pW5Crm0)"
      ]
    },
    {
      "cell_type": "code",
      "metadata": {
        "id": "aagJ40kTvHCW",
        "colab": {
          "base_uri": "https://localhost:8080/"
        },
        "outputId": "3a7311cc-1a05-42bb-f5f7-da6e41d37469"
      },
      "source": [
        "input = torch.ones(1,1,5,5)\n",
        "conv_layer = nn.Conv2d(in_channels=1, out_channels=1, kernel_size=3, stride=2, padding=0)\n",
        "output = conv_layer(input)\n",
        "print(output.shape)"
      ],
      "execution_count": null,
      "outputs": [
        {
          "output_type": "stream",
          "text": [
            "torch.Size([1, 1, 2, 2])\n"
          ],
          "name": "stdout"
        }
      ]
    },
    {
      "cell_type": "markdown",
      "metadata": {
        "id": "ojKOdUH9mPbj"
      },
      "source": [
        "### Example 3) kernel_size=4, stride=1, padding=2\n",
        "![image.png](http://drive.google.com/uc?id=1jA5h5lM6mbMtRtBT8rRFacf6yQazmHzW)\n"
      ]
    },
    {
      "cell_type": "code",
      "metadata": {
        "id": "XFf37HKxvP54",
        "colab": {
          "base_uri": "https://localhost:8080/"
        },
        "outputId": "113bc28c-0a89-4a4c-b9f1-ac9d28c49f3d"
      },
      "source": [
        "input = torch.ones(1,1,5,5)\n",
        "conv_layer = nn.Conv2d(in_channels=1, out_channels=1, kernel_size=4, stride=1, padding=2)\n",
        "output = conv_layer(input)\n",
        "print(output.shape)"
      ],
      "execution_count": null,
      "outputs": [
        {
          "output_type": "stream",
          "text": [
            "torch.Size([1, 1, 6, 6])\n"
          ],
          "name": "stdout"
        }
      ]
    },
    {
      "cell_type": "markdown",
      "metadata": {
        "id": "UhM7g6qqmPiU"
      },
      "source": [
        "### Excercise 1) kernel_size=?, stride=?, padding=?\n",
        "![image.png](http://drive.google.com/uc?id=1uAgXHskAXGtdowxGKw99Dtw4n4f_X34s)\n"
      ]
    },
    {
      "cell_type": "code",
      "metadata": {
        "id": "81nhcGmivU_f",
        "colab": {
          "base_uri": "https://localhost:8080/"
        },
        "outputId": "cb6fa411-261d-4683-8f3a-f5da761dbbd1"
      },
      "source": [
        "input = torch.ones(1,1,6,6)\n",
        "########################################## Complete This Code~!\n",
        "conv_layer = nn.Conv2d(in_channels=1, out_channels=1, kernel_size=3, stride=2, padding=1)\n",
        "########################################## Complete This Code~!\n",
        "output = conv_layer(input)\n",
        "print(output.shape)"
      ],
      "execution_count": null,
      "outputs": [
        {
          "output_type": "stream",
          "text": [
            "torch.Size([1, 1, 3, 3])\n"
          ],
          "name": "stdout"
        }
      ]
    },
    {
      "cell_type": "markdown",
      "metadata": {
        "id": "GoDsxDyLmPm1"
      },
      "source": [
        "### Excercise 2) kernel_size=?, stride=?, padding=?\n",
        "![image.png](http://drive.google.com/uc?id=1Q2WLIYER2T5h8Pri9diRs3J_Kmjb7MXo)\n"
      ]
    },
    {
      "cell_type": "code",
      "metadata": {
        "id": "MQDSRygVvbbO",
        "colab": {
          "base_uri": "https://localhost:8080/"
        },
        "outputId": "707d45bf-f622-4542-df04-2603783e19dd"
      },
      "source": [
        "input = torch.ones(1,1,5,5)\n",
        "########################################## Complete This Code~!\n",
        "conv_layer = nn.Conv2d(in_channels=1, out_channels=1, kernel_size=3, stride=1, padding=1)\n",
        "########################################## Complete This Code~!\n",
        "output = conv_layer(input)\n",
        "print(output.shape)"
      ],
      "execution_count": null,
      "outputs": [
        {
          "output_type": "stream",
          "text": [
            "torch.Size([1, 1, 5, 5])\n"
          ],
          "name": "stdout"
        }
      ]
    },
    {
      "cell_type": "markdown",
      "metadata": {
        "id": "1sBLs9zvmPrb"
      },
      "source": [
        "### Excercise 3) kernel_size=?, stride=?, padding=?\n",
        "![image.png](http://drive.google.com/uc?id=15MRDXon_68pySZHQy9wBqdbwp8HQNdv8)\n"
      ]
    },
    {
      "cell_type": "code",
      "metadata": {
        "id": "9MMoLbYxvmhH",
        "colab": {
          "base_uri": "https://localhost:8080/"
        },
        "outputId": "fcc3a824-8995-43b7-8b43-0cc0d893b68e"
      },
      "source": [
        "input = torch.ones(1,1,5,5)\n",
        "########################################## Complete This Code~!\n",
        "conv_layer = nn.Conv2d(in_channels=1, out_channels=1, kernel_size=3, stride=2, padding=1)\n",
        "########################################## Complete This Code~!\n",
        "output = conv_layer(input)\n",
        "print(output.shape)"
      ],
      "execution_count": null,
      "outputs": [
        {
          "output_type": "stream",
          "text": [
            "torch.Size([1, 1, 3, 3])\n"
          ],
          "name": "stdout"
        }
      ]
    },
    {
      "cell_type": "markdown",
      "metadata": {
        "id": "VcLx4RdLmPyj"
      },
      "source": [
        "### Excercise 4) kernel_size=?, stride=?, padding=?\n",
        "![image.png](http://drive.google.com/uc?id=17yCuQSaW2Q0XUwwHG8tBvts15Y-U3we1)"
      ]
    },
    {
      "cell_type": "code",
      "metadata": {
        "id": "Rjoq0NZ2vsTX"
      },
      "source": [
        "input = torch.ones(1,1,5,5)\n",
        "########################################## Complete This Code~!\n",
        "conv_layer = nn.Conv2d(in_channels=1, out_channels=1, kernel_size=3, stride=1, padding=2)\n",
        "########################################## Complete This Code~!\n",
        "output = conv_layer(input)\n",
        "print(output.shape)"
      ],
      "execution_count": null,
      "outputs": []
    },
    {
      "cell_type": "markdown",
      "metadata": {
        "id": "jX23Ob3_wqvA"
      },
      "source": [
        "### Excercise 5) kernel_size=?, stride=?, padding=?\n",
        "![image.png](http://drive.google.com/uc?id=1fNZTyHOtHX0y7sFW-e6tx0qP8mrQ7wK8)"
      ]
    },
    {
      "cell_type": "code",
      "metadata": {
        "colab": {
          "base_uri": "https://localhost:8080/"
        },
        "id": "Q8-EEdMyw9wX",
        "outputId": "fe4e3303-8e43-43e8-93c1-94104328a985"
      },
      "source": [
        "input = torch.ones(1,3,5,5)\n",
        "########################################## Complete This Code~!\n",
        "conv_layer = nn.Conv2d(in_channels=3, out_channels=2, kernel_size=3, stride=2, padding=1)\n",
        "########################################## Complete This Code~!\n",
        "output = conv_layer(input)\n",
        "print(output.shape)"
      ],
      "execution_count": null,
      "outputs": [
        {
          "output_type": "stream",
          "text": [
            "torch.Size([1, 2, 3, 3])\n"
          ],
          "name": "stdout"
        }
      ]
    },
    {
      "cell_type": "markdown",
      "metadata": {
        "id": "IH0meoGQyuLA"
      },
      "source": [
        "### Excercise 6) Input size=(7,7), kernel_size=3, stride=2, padding=0, Output size=?\n",
        "![image.png](http://drive.google.com/uc?id=1d9C1FkXHRwx86OfBZ2-1XrIVyak_skMG)"
      ]
    },
    {
      "cell_type": "code",
      "metadata": {
        "colab": {
          "base_uri": "https://localhost:8080/"
        },
        "id": "aos7P8uayt2H",
        "outputId": "63bdcfa7-0c86-4f12-b0c9-00469d4be2a1"
      },
      "source": [
        "input = torch.ones(1,1,6,6)\n",
        "########################################## Complete This Code~!\n",
        "conv_layer = nn.Conv2d(in_channels=1, out_channels=1, kernel_size=?, stride=?, padding=?)\n",
        "########################################## Complete This Code~!\n",
        "output = conv_layer(input)\n",
        "print(output.shape)"
      ],
      "execution_count": null,
      "outputs": [
        {
          "output_type": "stream",
          "text": [
            "torch.Size([1, 1, 2, 2])\n"
          ],
          "name": "stdout"
        }
      ]
    },
    {
      "cell_type": "markdown",
      "metadata": {
        "id": "NRN2Lz0cdqD8"
      },
      "source": [
        "## < Convolution output feature map size 계산 > \n",
        "![image.png](http://drive.google.com/uc?id=12reHf9xtapZrVBG4LlNbNGa37ZeFfUqk)\n",
        "![image.png](http://drive.google.com/uc?id=1iqd-9-hHgnc6Zz7kR6v9EMhLWrMmY07N)"
      ]
    },
    {
      "cell_type": "code",
      "metadata": {
        "id": "-w3DKShN0dmP",
        "colab": {
          "base_uri": "https://localhost:8080/"
        },
        "outputId": "e8dbe4c0-e7dc-4f4a-c4fb-cd71b34bc241"
      },
      "source": [
        "# 예제 1)\n",
        "########################################## Complete This Code~!\n",
        "ans_1 = int( (227 - 11 + 2*0) / 4 + 1 )\n",
        "########################################## Complete This Code~!\n",
        "print(f'예제 1 정답 : {ans_1}')\n",
        "\n",
        "# 예제 2)\n",
        "ans_2 = int( (64 - 7 + 2*0) / 2 + 1 )\n",
        "print(f'예제 2 정답 : {ans_2}') # 28.5 + 1 => 29\n",
        "\n",
        "# 예제 3)\n",
        "########################################## Complete This Code~!\n",
        "ans_3 = int( (32 - 5 + 2*2) / 1 + 1 )\n",
        "########################################## Complete This Code~!\n",
        "print(f'예제 3 정답 : {ans_3}')\n",
        "\n",
        "# 예제 4)\n",
        "# <Height>\n",
        "ans_4_height = int( (32 - 5 + 2*0) / 1 + 1 )\n",
        "# <Width>\n",
        "ans_4_width = int( (64 - 5 + 2*0) / 1 + 1 )\n",
        "print(f'예제 4 정답 : ({ans_4_height}, {ans_4_width})') # (28, 60)\n",
        "\n",
        "# 예제 5)\n",
        "# <Height>\n",
        "########################################## Complete This Code~!\n",
        "ans_5_height = int( (64 - 3 + 2*1) / 1 + 1 )\n",
        "########################################## Complete This Code~!\n",
        "#<Width>\n",
        "########################################## Complete This Code~!\n",
        "ans_5_width = int( (32 - 3 + 2*1) / 1 + 1 )\n",
        "########################################## Complete This Code~!\n",
        "print(f'예제 5 정답 : ({ans_5_height}, {ans_5_width})')"
      ],
      "execution_count": null,
      "outputs": [
        {
          "output_type": "stream",
          "text": [
            "예제 1 정답 : 55\n",
            "예제 2 정답 : 29\n",
            "예제 3 정답 : 32\n",
            "예제 4 정답 : (28, 60)\n",
            "예제 5 정답 : (64, 32)\n"
          ],
          "name": "stdout"
        }
      ]
    },
    {
      "cell_type": "code",
      "metadata": {
        "colab": {
          "base_uri": "https://localhost:8080/"
        },
        "id": "yUqcnjUX2cnZ",
        "outputId": "ca6ade76-d8de-41bf-f5db-1920fafa3d00"
      },
      "source": [
        "# 각 예제에 맞게 INPUT 값을 바꾸어 설정할 수 있습니다.\n",
        "INPUT_SIZE = (227,227)\n",
        "IN_CHANNELS = 3\n",
        "OUT_CHANNELS = 10\n",
        "KERNEL_SIZE = 11\n",
        "STRIDE = 4\n",
        "PADDING = 0\n",
        "\n",
        "input = torch.ones(1,IN_CHANNELS,INPUT_SIZE[0],INPUT_SIZE[1])\n",
        "func = nn.Conv2d(in_channels=IN_CHANNELS, out_channels=OUT_CHANNELS, kernel_size=KERNEL_SIZE, stride=STRIDE, padding=PADDING)\n",
        "output = func(input)\n",
        "print(output.shape)"
      ],
      "execution_count": null,
      "outputs": [
        {
          "output_type": "stream",
          "text": [
            "torch.Size([1, 10, 55, 55])\n"
          ],
          "name": "stdout"
        }
      ]
    },
    {
      "cell_type": "markdown",
      "metadata": {
        "id": "MpZpQmjk1mYk"
      },
      "source": [
        "## 2) nn.MaxPool2d \n",
        "- [doc] (https://pytorch.org/docs/stable/generated/torch.nn.MaxPool2d.html)\n",
        "\n",
        "![image.png](http://drive.google.com/uc?id=1010fN_7lMHuxmda3_gdSxfbW36yTC6F5)\n",
        "![image.png](http://drive.google.com/uc?id=1D2e9iFzJZMPLxRYucC4LS2B44-a3dlQk)\n",
        "\n",
        "![image.png](http://drive.google.com/uc?id=1xEmoXL-lmanXO6eSYDEmq7_cyFB73dRF)"
      ]
    },
    {
      "cell_type": "code",
      "metadata": {
        "id": "bVg1KI146VxQ",
        "colab": {
          "base_uri": "https://localhost:8080/"
        },
        "outputId": "6c07ec0a-6fca-4051-cd81-15b504ffdfbf"
      },
      "source": [
        "input = torch.tensor([[[1.,0.,2.,3.],[4.,6.,6.,8.],[3.,1.,1.,0.],[1.,2.,2.,4.]]])\n",
        "print(input)\n",
        "func = nn.MaxPool2d(kernel_size=2)\n",
        "output = func(input)\n",
        "print(output)"
      ],
      "execution_count": null,
      "outputs": [
        {
          "output_type": "stream",
          "text": [
            "tensor([[[1., 0., 2., 3.],\n",
            "         [4., 6., 6., 8.],\n",
            "         [3., 1., 1., 0.],\n",
            "         [1., 2., 2., 4.]]])\n",
            "tensor([[[6., 8.],\n",
            "         [3., 4.]]])\n"
          ],
          "name": "stdout"
        },
        {
          "output_type": "stream",
          "text": [
            "/usr/local/lib/python3.7/dist-packages/torch/nn/functional.py:718: UserWarning: Named tensors and all their associated APIs are an experimental feature and subject to change. Please do not use them for anything important until they are released as stable. (Triggered internally at  /pytorch/c10/core/TensorImpl.h:1156.)\n",
            "  return torch.max_pool2d(input, kernel_size, stride, padding, dilation, ceil_mode)\n"
          ],
          "name": "stderr"
        }
      ]
    },
    {
      "cell_type": "markdown",
      "metadata": {
        "id": "SXJ3Ix0cxREJ"
      },
      "source": [
        "## 3) nn.AvgPool2d\n",
        "- [doc] (https://pytorch.org/docs/stable/generated/torch.nn.AvgPool2d.html)\n",
        "\n",
        "![image.png](http://drive.google.com/uc?id=1z4OjHBduieJQVJqquISgrsmVqlVlfgS1)\n",
        "![image.png](http://drive.google.com/uc?id=10U4Z4OGKSWQHeDMa-f9KRnUXhfGKhKnk)\n",
        "\n",
        "![image.png](http://drive.google.com/uc?id=1wg2vJ8t780P6l5EUw1oLF3QTSjZBse0a)\n"
      ]
    },
    {
      "cell_type": "code",
      "metadata": {
        "id": "W4SBl9g3A3uM",
        "colab": {
          "base_uri": "https://localhost:8080/"
        },
        "outputId": "4db1521f-cf55-402e-de1a-c08c3090dcf7"
      },
      "source": [
        "input = torch.tensor([[[1.,0.,2.,3.],[4.,6.,6.,8.],[3.,1.,1.,0.],[1.,2.,2.,4.]]])\n",
        "print(input)\n",
        "func = nn.AvgPool2d(kernel_size=2)\n",
        "output = func(input)\n",
        "print(output)"
      ],
      "execution_count": null,
      "outputs": [
        {
          "output_type": "stream",
          "text": [
            "tensor([[[1., 0., 2., 3.],\n",
            "         [4., 6., 6., 8.],\n",
            "         [3., 1., 1., 0.],\n",
            "         [1., 2., 2., 4.]]])\n",
            "tensor([[[2.7500, 4.7500],\n",
            "         [1.7500, 1.7500]]])\n"
          ],
          "name": "stdout"
        }
      ]
    },
    {
      "cell_type": "markdown",
      "metadata": {
        "id": "4KnKLq_H58kw"
      },
      "source": [
        "## 4) nn.AdaptiveAvgPool2d()\n",
        "- [doc] (https://pytorch.org/docs/stable/generated/torch.nn.AdaptiveAvgPool2d.html)\n",
        "\n",
        "![image.png](http://drive.google.com/uc?id=190yR-M7yTb6ZlILOi4J5RSrfLeh_iul8)\n",
        "\n",
        "![image.png](http://drive.google.com/uc?id=1KMgjceD4tsS67kUvAb1BYC29HXWJb0Hr)\n"
      ]
    },
    {
      "cell_type": "code",
      "metadata": {
        "id": "rrqjmhhSA7yn",
        "colab": {
          "base_uri": "https://localhost:8080/"
        },
        "outputId": "4284a582-6bd6-4633-a660-5faa35909477"
      },
      "source": [
        "input = torch.tensor([[[1.,0.,2.,3.],[4.,6.,6.,8.],[3.,1.,1.,0.],[1.,2.,2.,4.]]]) # shpae : [1,4,4]\n",
        "print(input)\n",
        "func = nn.AdaptiveAvgPool2d(1)\n",
        "output = func(input)\n",
        "print(output) # shape : [1,1,1]"
      ],
      "execution_count": null,
      "outputs": [
        {
          "output_type": "stream",
          "text": [
            "tensor([[[1., 0., 2., 3.],\n",
            "         [4., 6., 6., 8.],\n",
            "         [3., 1., 1., 0.],\n",
            "         [1., 2., 2., 4.]]])\n",
            "tensor([[[2.7500]]])\n"
          ],
          "name": "stdout"
        }
      ]
    },
    {
      "cell_type": "code",
      "metadata": {
        "id": "iRdf0cDhdBf1",
        "colab": {
          "base_uri": "https://localhost:8080/"
        },
        "outputId": "512a7a4e-2e4b-475e-f809-0c7e03fbe4de"
      },
      "source": [
        "input = torch.randn((1,3,4,4))\n",
        "print(input)\n",
        "func = nn.AdaptiveAvgPool2d(1)\n",
        "output = func(input)\n",
        "print(output) # shape : [1,3,1,1]"
      ],
      "execution_count": null,
      "outputs": [
        {
          "output_type": "stream",
          "text": [
            "tensor([[[[-0.3266, -1.5027,  0.0539,  1.0338],\n",
            "          [ 0.8418,  0.5582, -0.2954, -1.2928],\n",
            "          [-0.0594,  1.6513,  0.5284, -0.2285],\n",
            "          [-0.1334, -0.9264,  0.1005, -0.8065]],\n",
            "\n",
            "         [[ 1.4910, -1.2344,  1.4647,  1.0041],\n",
            "          [-0.8399, -0.3653,  1.8331, -1.1411],\n",
            "          [ 1.1190, -0.0493, -0.3574, -0.7682],\n",
            "          [ 0.3524, -0.6973, -0.6097,  0.8578]],\n",
            "\n",
            "         [[-1.1336, -0.2463, -0.5406,  0.5991],\n",
            "          [-0.0964,  0.0609, -1.5864,  0.3134],\n",
            "          [ 1.4653,  1.2463,  0.7695,  1.6617],\n",
            "          [-0.4497,  2.1768,  1.0994, -0.7260]]]])\n",
            "tensor([[[[-0.0502]],\n",
            "\n",
            "         [[ 0.1287]],\n",
            "\n",
            "         [[ 0.2883]]]])\n"
          ],
          "name": "stdout"
        }
      ]
    },
    {
      "cell_type": "code",
      "metadata": {
        "id": "8R7JRuJhBOzz",
        "colab": {
          "base_uri": "https://localhost:8080/"
        },
        "outputId": "453d2907-f8f7-47d6-b975-7e7874ebd051"
      },
      "source": [
        "input = torch.randn((1,3,1,1))\n",
        "print(input)\n",
        "func = nn.AdaptiveAvgPool2d(7)\n",
        "output = func(input)\n",
        "print(output) # shape : [1,3,7,7]"
      ],
      "execution_count": null,
      "outputs": [
        {
          "output_type": "stream",
          "text": [
            "tensor([[[[-1.0636]],\n",
            "\n",
            "         [[ 0.7998]],\n",
            "\n",
            "         [[-1.7271]]]])\n",
            "tensor([[[[-1.0636, -1.0636, -1.0636, -1.0636, -1.0636, -1.0636, -1.0636],\n",
            "          [-1.0636, -1.0636, -1.0636, -1.0636, -1.0636, -1.0636, -1.0636],\n",
            "          [-1.0636, -1.0636, -1.0636, -1.0636, -1.0636, -1.0636, -1.0636],\n",
            "          [-1.0636, -1.0636, -1.0636, -1.0636, -1.0636, -1.0636, -1.0636],\n",
            "          [-1.0636, -1.0636, -1.0636, -1.0636, -1.0636, -1.0636, -1.0636],\n",
            "          [-1.0636, -1.0636, -1.0636, -1.0636, -1.0636, -1.0636, -1.0636],\n",
            "          [-1.0636, -1.0636, -1.0636, -1.0636, -1.0636, -1.0636, -1.0636]],\n",
            "\n",
            "         [[ 0.7998,  0.7998,  0.7998,  0.7998,  0.7998,  0.7998,  0.7998],\n",
            "          [ 0.7998,  0.7998,  0.7998,  0.7998,  0.7998,  0.7998,  0.7998],\n",
            "          [ 0.7998,  0.7998,  0.7998,  0.7998,  0.7998,  0.7998,  0.7998],\n",
            "          [ 0.7998,  0.7998,  0.7998,  0.7998,  0.7998,  0.7998,  0.7998],\n",
            "          [ 0.7998,  0.7998,  0.7998,  0.7998,  0.7998,  0.7998,  0.7998],\n",
            "          [ 0.7998,  0.7998,  0.7998,  0.7998,  0.7998,  0.7998,  0.7998],\n",
            "          [ 0.7998,  0.7998,  0.7998,  0.7998,  0.7998,  0.7998,  0.7998]],\n",
            "\n",
            "         [[-1.7271, -1.7271, -1.7271, -1.7271, -1.7271, -1.7271, -1.7271],\n",
            "          [-1.7271, -1.7271, -1.7271, -1.7271, -1.7271, -1.7271, -1.7271],\n",
            "          [-1.7271, -1.7271, -1.7271, -1.7271, -1.7271, -1.7271, -1.7271],\n",
            "          [-1.7271, -1.7271, -1.7271, -1.7271, -1.7271, -1.7271, -1.7271],\n",
            "          [-1.7271, -1.7271, -1.7271, -1.7271, -1.7271, -1.7271, -1.7271],\n",
            "          [-1.7271, -1.7271, -1.7271, -1.7271, -1.7271, -1.7271, -1.7271],\n",
            "          [-1.7271, -1.7271, -1.7271, -1.7271, -1.7271, -1.7271, -1.7271]]]])\n"
          ],
          "name": "stdout"
        }
      ]
    },
    {
      "cell_type": "code",
      "metadata": {
        "id": "nl44-bXd7bec"
      },
      "source": [],
      "execution_count": null,
      "outputs": []
    }
  ]
}